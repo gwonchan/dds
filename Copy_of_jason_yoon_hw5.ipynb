{
  "nbformat": 4,
  "nbformat_minor": 0,
  "metadata": {
    "colab": {
      "provenance": [],
      "authorship_tag": "ABX9TyPHcNH83tHIYvDU3VKN3b2a",
      "include_colab_link": true
    },
    "kernelspec": {
      "name": "python3",
      "display_name": "Python 3"
    },
    "language_info": {
      "name": "python"
    }
  },
  "cells": [
    {
      "cell_type": "markdown",
      "metadata": {
        "id": "view-in-github",
        "colab_type": "text"
      },
      "source": [
        "<a href=\"https://colab.research.google.com/github/gwonchan/dds/blob/main/Copy_of_jason_yoon_hw5.ipynb\" target=\"_parent\"><img src=\"https://colab.research.google.com/assets/colab-badge.svg\" alt=\"Open In Colab\"/></a>"
      ]
    },
    {
      "cell_type": "code",
      "execution_count": null,
      "metadata": {
        "id": "TNHmGjyy7YHk"
      },
      "outputs": [],
      "source": [
        "\n",
        "SMU NLP Course—Homework 5\n",
        "Homework 5\n",
        "1. Compile a list of static links (permalinks) to individual user movie reviews from one particular\n",
        "website. This will be your working dataset for this assignment, as well as for assignments 7 and\n",
        "8.\n",
        "a. It does not matter if you use a crawler or if you manually collect the links, but you will\n",
        "need at least 100 movie review links. Note that, as of this writing, the robots.txt file of\n",
        "IMDB.com allows the crawling of user reviews.\n",
        "b. Each link should be to a web page that has only one user review of only one movie, e.g.,\n",
        "the user review permalinks on the IMDB site.\n",
        "c. Choose reviews of movies that are all in the same genre, e.g., sci-fi, mystery, romance,\n",
        "superhero, etc.\n",
        "d. Make sure your collection includes reviews of several movies in your chosen genre and\n",
        "that it includes a mix of negative and positive reviews.\n",
        "2. Extract noun phrase (NP) chunks from your reviews using the following procedure:\n",
        "a. In Python, use BeautifulSoup to grab the main review text from each link.\n",
        "b. Next run each review text through a tokenizer, and then try to NP-chunk it with a\n",
        "shallow parser.\n",
        "c. You probably will have too many unknown words, owing to proper names of characters,\n",
        "actors, and so on that are not in your working dictionary. Make sure the main names\n",
        "that are relevant to the movies in your collection of reviews are added to the working\n",
        "lexicon, and then run the NP chunker again.\n",
        "3. Output all the chunks in a single list for each review, and submit that output for this assignment.\n",
        "Also submit a brief written summary of what you did (describe your selection of genre, your\n",
        "source of reviews, how many you collected, and by what means).\n"
      ]
    }
  ]
}