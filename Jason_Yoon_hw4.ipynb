{
  "nbformat": 4,
  "nbformat_minor": 0,
  "metadata": {
    "colab": {
      "provenance": [],
      "authorship_tag": "ABX9TyNtnzoIrOChdpvaQzYsSPN9",
      "include_colab_link": true
    },
    "kernelspec": {
      "name": "python3",
      "display_name": "Python 3"
    },
    "language_info": {
      "name": "python"
    }
  },
  "cells": [
    {
      "cell_type": "markdown",
      "metadata": {
        "id": "view-in-github",
        "colab_type": "text"
      },
      "source": [
        "<a href=\"https://colab.research.google.com/github/gwonchan/dds/blob/main/Jason_Yoon_hw4.ipynb\" target=\"_parent\"><img src=\"https://colab.research.google.com/assets/colab-badge.svg\" alt=\"Open In Colab\"/></a>"
      ]
    },
    {
      "cell_type": "code",
      "execution_count": null,
      "metadata": {
        "id": "XLfHouqg3sIg"
      },
      "outputs": [],
      "source": []
    },
    {
      "cell_type": "markdown",
      "source": [
        "SMU NLP Course—Homework 4\n",
        "Homework 4\n",
        "1. Run one of the part-of-speech (POS) taggers available in Python.\n",
        "a. Find the longest sentence you can, longer than 10 words, that the POS tagger tags\n",
        "correctly. Show the input and output.\n",
        "b. Find the shortest sentence you can, shorter than 10 words, that the POS tagger fails to\n",
        "tag 100 percent correctly. Show the input and output. Explain your conjecture as to why\n",
        "the tagger might have been less than perfect with this sentence.\n",
        "2. Run a different POS tagger in Python. Process the same two sentences from question 1.\n",
        "a. Does it produce the same or different output?\n",
        "b. Explain any differences as best you can.\n",
        "3. In a news article from this week’s news, find a random sentence of at least 10 words.\n",
        "a. Looking at the Penn tag set, manually POS tag the sentence yourself.\n",
        "b. Now run the same sentences through both taggers that you implemented for questions\n",
        "1 and 2. Did either of the taggers produce the same results as you had created\n",
        "manually?\n",
        "c. Explain any differences between the two taggers and your manual tagging as much as\n",
        "you can.\n"
      ],
      "metadata": {
        "id": "Op_O4YZ63tPJ"
      }
    }
  ]
}